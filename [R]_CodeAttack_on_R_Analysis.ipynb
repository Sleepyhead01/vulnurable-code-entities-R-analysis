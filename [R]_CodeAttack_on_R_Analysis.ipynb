{
  "nbformat": 4,
  "nbformat_minor": 0,
  "metadata": {
    "colab": {
      "provenance": []
    },
    "kernelspec": {
      "name": "python3",
      "display_name": "Python 3"
    },
    "language_info": {
      "name": "python"
    }
  },
  "cells": [
    {
      "cell_type": "markdown",
      "source": [
        "## Imports, etc"
      ],
      "metadata": {
        "id": "rmiIGiQCzqdJ"
      }
    },
    {
      "cell_type": "code",
      "execution_count": null,
      "metadata": {
        "colab": {
          "base_uri": "https://localhost:8080/"
        },
        "id": "gGGQjRdfYNMl",
        "outputId": "2de1933b-0eae-4859-806c-00e4f2051924"
      },
      "outputs": [
        {
          "output_type": "stream",
          "name": "stdout",
          "text": [
            "\u001b[?25l     \u001b[90m━━━━━━━━━━━━━━━━━━━━━━━━━━━━━━━━━━━━━━━━\u001b[0m \u001b[32m0.0/488.2 kB\u001b[0m \u001b[31m?\u001b[0m eta \u001b[36m-:--:--\u001b[0m\r\u001b[2K     \u001b[91m━━━\u001b[0m\u001b[90m╺\u001b[0m\u001b[90m━━━━━━━━━━━━━━━━━━━━━━━━━━━━━━━━━━━━\u001b[0m \u001b[32m41.0/488.2 kB\u001b[0m \u001b[31m1.1 MB/s\u001b[0m eta \u001b[36m0:00:01\u001b[0m\r\u001b[2K     \u001b[91m━━━━━━━━━━━━━━━━━━━━━━━━━━━━━━━━━━━━━━━\u001b[0m\u001b[90m╺\u001b[0m \u001b[32m481.3/488.2 kB\u001b[0m \u001b[31m6.9 MB/s\u001b[0m eta \u001b[36m0:00:01\u001b[0m\r\u001b[2K     \u001b[90m━━━━━━━━━━━━━━━━━━━━━━━━━━━━━━━━━━━━━━━━\u001b[0m \u001b[32m488.2/488.2 kB\u001b[0m \u001b[31m5.9 MB/s\u001b[0m eta \u001b[36m0:00:00\u001b[0m\n",
            "\u001b[?25hCloning into 'tree-sitter-r'...\n",
            "remote: Enumerating objects: 1037, done.\u001b[K\n",
            "remote: Counting objects: 100% (263/263), done.\u001b[K\n",
            "remote: Compressing objects: 100% (39/39), done.\u001b[K\n",
            "remote: Total 1037 (delta 229), reused 230 (delta 224), pack-reused 774\u001b[K\n",
            "Receiving objects: 100% (1037/1037), 20.72 MiB | 20.76 MiB/s, done.\n",
            "Resolving deltas: 100% (589/589), done.\n"
          ]
        }
      ],
      "source": [
        "#@title Dependencies\n",
        "!pip install -q tree-sitter\n",
        "!git clone https://github.com/r-lib/tree-sitter-r.git"
      ]
    },
    {
      "cell_type": "markdown",
      "source": [
        "## Scripts to extract identifiers"
      ],
      "metadata": {
        "id": "eLI0uhv9dnJ8"
      }
    },
    {
      "cell_type": "code",
      "source": [
        "from tree_sitter import Language, Parser\n",
        "\n",
        "Language.build_library(\n",
        "  # Store the library in the `build` directory\n",
        "  'build/my-languages.so',\n",
        "  # Include one or more languages\n",
        "  [\n",
        "    '/content/tree-sitter-r',\n",
        "  ]\n",
        ")"
      ],
      "metadata": {
        "colab": {
          "base_uri": "https://localhost:8080/"
        },
        "id": "_qF_xfJCYVpW",
        "outputId": "9cf05e54-ce0c-45c1-d21a-e9c23fb83470"
      },
      "execution_count": null,
      "outputs": [
        {
          "output_type": "execute_result",
          "data": {
            "text/plain": [
              "True"
            ]
          },
          "metadata": {},
          "execution_count": 2
        }
      ]
    },
    {
      "cell_type": "code",
      "source": [
        "r = Language('build/my-languages.so', 'r')"
      ],
      "metadata": {
        "id": "6S-8jY6gYYD_"
      },
      "execution_count": null,
      "outputs": []
    },
    {
      "cell_type": "code",
      "source": [
        "parser = Parser()"
      ],
      "metadata": {
        "id": "Soowf0peZTI7"
      },
      "execution_count": null,
      "outputs": []
    },
    {
      "cell_type": "code",
      "source": [
        "# def tree_to_token_index(root_node):\n",
        "#     if (len(root_node.children) == 0 or root_node.type in ['string_literal', 'string',\n",
        "#                                                            'character_literal']) and root_node.type != 'comment':\n",
        "#         return [(root_node.start_point, root_node.end_point, root_node.type)]\n",
        "#     else:\n",
        "#         code_tokens = []\n",
        "#         for child in root_node.children:\n",
        "#             code_tokens += tree_to_token_index(child)\n",
        "#         return code_tokens\n",
        "\n",
        "\n",
        "def tree_to_token_index(root_node):\n",
        "  code_tokens = []\n",
        "  if(len(root_node.children)==0) and root_node.type != 'comment':\n",
        "    return [(root_node.start_point, root_node.end_point, root_node.type)]\n",
        "  else:\n",
        "    if root_node.type != 'comment':\n",
        "      code_tokens+=[(root_node.start_point, root_node.end_point, root_node.type)]\n",
        "    # code_tokens = []\n",
        "    for child in root_node.children:\n",
        "        code_tokens += tree_to_token_index(child)\n",
        "    return code_tokens"
      ],
      "metadata": {
        "id": "bQV1DcbYY0RF"
      },
      "execution_count": null,
      "outputs": []
    },
    {
      "cell_type": "code",
      "source": [
        "def tree_to_variable_index(root_node, index_to_code):\n",
        "    if (len(root_node.children) == 0 or root_node.type in ['string_literal', 'string',\n",
        "                                                           'character_literal']) and root_node.type != 'comment':\n",
        "        index = (root_node.start_point, root_node.end_point)\n",
        "        _, code = index_to_code[index]\n",
        "        if root_node.type != code:\n",
        "            return [(root_node.start_point, root_node.end_point)]\n",
        "        else:\n",
        "            return []\n",
        "    else:\n",
        "        code_tokens = []\n",
        "        for child in root_node.children:\n",
        "            code_tokens += tree_to_variable_index(child, index_to_code)\n",
        "        return code_tokens"
      ],
      "metadata": {
        "id": "OYm-_M1nY15z"
      },
      "execution_count": null,
      "outputs": []
    },
    {
      "cell_type": "code",
      "source": [
        "def index_to_code_token(index, code):\n",
        "    start_point = index[0]\n",
        "    end_point = index[1]\n",
        "    if start_point[0] == end_point[0]:\n",
        "        s = code[start_point[0]][start_point[1]:end_point[1]]\n",
        "    else:\n",
        "        s = \"\"\n",
        "        s += code[start_point[0]][start_point[1]:]\n",
        "        for i in range(start_point[0] + 1, end_point[0]):\n",
        "            s += code[i]\n",
        "        s += code[end_point[0]][:end_point[1]]\n",
        "    return s"
      ],
      "metadata": {
        "id": "-U1I3GzcY2lU"
      },
      "execution_count": null,
      "outputs": []
    },
    {
      "cell_type": "code",
      "source": [
        "# def get_type(parser, code, lang):\n",
        "#     parser.set_language(lang)\n",
        "#     # code = remove_comments_and_docstrings(code,lang)\n",
        "#     tree = parser.parse(bytes(code, 'utf8'))\n",
        "#     root_node = tree.root_node\n",
        "#     tokens_index = tree_to_token_index(root_node)\n",
        "#     code = code.split('\\n')\n",
        "#     code_tokens = [index_to_code_token(x, code) for x in tokens_index]\n",
        "#     index_to_code = {}\n",
        "#     for (index, code) in zip(tokens_index, code_tokens):\n",
        "#         index_to_code[index] = code\n",
        "#     return index_to_code\n",
        "\n",
        "def get_type(parser, code, lang):\n",
        "    parser.set_language(lang)\n",
        "    # code = remove_comments_and_docstrings(code,lang)\n",
        "    tree = parser.parse(bytes(code, 'utf8'))\n",
        "    root_node = tree.root_node\n",
        "    tokens_index = tree_to_token_index(root_node)\n",
        "    code = code.split('\\n')\n",
        "    code_tokens = [index_to_code_token(x, code) for x in tokens_index]\n",
        "    types = []\n",
        "    for (index, code) in zip(tokens_index, code_tokens):\n",
        "      # if index[0][1] in idx:\n",
        "      types.append(index[2])\n",
        "    return types"
      ],
      "metadata": {
        "id": "R-BLWByaY8mc"
      },
      "execution_count": null,
      "outputs": []
    },
    {
      "cell_type": "code",
      "source": [
        "def get_adv(parser, code, idx):\n",
        "    parser.set_language(r)\n",
        "    # code = remove_comments_and_docstrings(code,lang)\n",
        "    tree = parser.parse(bytes(code, 'utf8'))\n",
        "    root_node = tree.root_node\n",
        "    tokens_index = tree_to_token_index(root_node)\n",
        "    code = code.split('\\n')\n",
        "    code_tokens = [index_to_code_token(x, code) for x in tokens_index]\n",
        "    # index_to_code = {}\n",
        "    types = []\n",
        "    for (index, code) in zip(tokens_index, code_tokens):\n",
        "      if index[0][1] in idx:\n",
        "        types.append(index[2])\n",
        "    return types"
      ],
      "metadata": {
        "id": "xG-MNdKb_Apt"
      },
      "execution_count": null,
      "outputs": []
    },
    {
      "cell_type": "markdown",
      "source": [
        "### Extracting token type that was attacked and the frequency of attack on the tokens"
      ],
      "metadata": {
        "id": "uT0uAQaAj1Nj"
      }
    },
    {
      "cell_type": "code",
      "source": [
        "import pandas as pd\n",
        "df = pd.read_json('/content/CodeAttack Generation.json')\n",
        "df_success = df[df['pred_bleu']>df['after_attack_bleu']]"
      ],
      "metadata": {
        "id": "DZkswmP6GM7H"
      },
      "execution_count": null,
      "outputs": []
    },
    {
      "cell_type": "code",
      "source": [
        "def pos(code_og, code_adv):\n",
        "  code_og_split = code_og.split()\n",
        "  code_adv_split = code_adv.split()\n",
        "  pos = 0\n",
        "  pos_list = []\n",
        "  for i in range(len(code_og_split)):\n",
        "    if code_og_split[i] != code_adv_split[i]:\n",
        "      pos_list.append(pos)\n",
        "      # print(code_og_split[i], code_adv_split[i], pos, len(code_og_split[i]))\n",
        "    # print(code_og_split[i])\n",
        "    # print(code_og[pos])\n",
        "    # print(50*'*')\n",
        "    pos += len(code_og_split[i])+1\n",
        "  return pos_list"
      ],
      "metadata": {
        "id": "DFrpj4uI_1xz"
      },
      "execution_count": null,
      "outputs": []
    },
    {
      "cell_type": "code",
      "source": [
        "# code_og  = \"function ( x , pars = character ( ) , regex_pars = character ( ) , transformations = list ( ) , ... , facet_args = list ( ) , binwidth = NULL , bins = NULL , breaks = NULL , freq = TRUE , alpha = 1 ) { check_ignored_arguments ( ... )  .mcmc_hist ( x , pars = pars , regex_pars = regex_pars , transformations = transformations , facet_args = facet_args , binwidth = binwidth , bins = bins , breaks = breaks , by_chain = FALSE , freq = freq , alpha = alpha , ... )  }\"\n",
        "# code_adv = \"function ( x , pars = character ( ) , regex_pars = character ( ) , transformations = list ( ) , ... , facet_args = list ( ) , binwidth )= NULL , bins = NULL , breaks = NULL , freq = TRUE , alpha = 1 ) { check_ignored_arguments ( ... ) .mcmc_hist ( x , pars = pars , regex_pars = regex_pars , transformations = transformations , facet_args = facet_args , binwidth = binwidth , bins = bins , breaks = breaks , by_chain = FALSE s freq = freq , aci = as , ... ) }\"\n",
        "\n",
        "# idx = pos(code_og, code_adv)\n",
        "# #replace all double spaces with single spaces\n",
        "# code_og = code_og.replace('  ', ' ')"
      ],
      "metadata": {
        "id": "XitdHYjXARNL"
      },
      "execution_count": null,
      "outputs": []
    },
    {
      "cell_type": "code",
      "source": [
        "# get_type(parser, code_og, r)"
      ],
      "metadata": {
        "id": "MVKPazhJ-oyW"
      },
      "execution_count": null,
      "outputs": []
    },
    {
      "cell_type": "code",
      "source": [
        "all_tokens_ = list()\n",
        "for index, row in df_success.iterrows():\n",
        "  code_og = row.input\n",
        "  code_adv = row.adv\n",
        "  idx = pos(code_og, code_adv)\n",
        "  code_og = code_og.replace('  ', ' ')\n",
        "  all_tokens_+=get_type(parser, code_og, r)\n",
        "import collections\n",
        "all_tokens = collections.Counter(all_tokens_)\n",
        "# all_tokens = sorted(all_tokens.items(), key=lambda item: (-item[1], item[0]))\n",
        "all_tokens"
      ],
      "metadata": {
        "colab": {
          "base_uri": "https://localhost:8080/"
        },
        "id": "V1tQt0yk4mGA",
        "outputId": "ffec3a84-4d6e-4b45-b0bf-f1efd4471bc5"
      },
      "execution_count": null,
      "outputs": [
        {
          "output_type": "execute_result",
          "data": {
            "text/plain": [
              "Counter({'program': 448,\n",
              "         'function_definition': 527,\n",
              "         'function': 549,\n",
              "         'formal_parameters': 541,\n",
              "         '(': 4408,\n",
              "         'identifier': 12007,\n",
              "         ',': 4690,\n",
              "         'default_parameter': 1116,\n",
              "         '=': 2657,\n",
              "         'call': 3445,\n",
              "         ')': 4399,\n",
              "         'dots': 352,\n",
              "         'true': 130,\n",
              "         'null': 415,\n",
              "         'brace_list': 814,\n",
              "         '{': 839,\n",
              "         'arguments': 3433,\n",
              "         'left_assignment': 541,\n",
              "         '<-': 548,\n",
              "         'default_argument': 1505,\n",
              "         'dollar': 312,\n",
              "         '$': 312,\n",
              "         'if': 559,\n",
              "         'binary': 1531,\n",
              "         '==': 108,\n",
              "         'float': 997,\n",
              "         '}': 814,\n",
              "         'string': 1403,\n",
              "         '\"': 2618,\n",
              "         'ERROR': 20,\n",
              "         'false': 200,\n",
              "         '<': 20,\n",
              "         '`': 4,\n",
              "         'unary': 142,\n",
              "         '!': 78,\n",
              "         'namespace_get': 323,\n",
              "         '::': 323,\n",
              "         'slot': 35,\n",
              "         '@': 35,\n",
              "         '+': 71,\n",
              "         'else': 94,\n",
              "         '!=': 16,\n",
              "         'escape_sequence': 107,\n",
              "         '<=': 12,\n",
              "         'equals_assignment': 36,\n",
              "         'subset2': 84,\n",
              "         '[[': 84,\n",
              "         ']]': 84,\n",
              "         \"'\": 188,\n",
              "         'subset': 103,\n",
              "         '[': 103,\n",
              "         ']': 103,\n",
              "         'integer': 56,\n",
              "         'special': 88,\n",
              "         '%': 176,\n",
              "         'for': 13,\n",
              "         'in': 7,\n",
              "         'na': 84,\n",
              "         'NA': 77,\n",
              "         'switch': 14,\n",
              "         '^': 185,\n",
              "         '*': 300,\n",
              "         '-': 313,\n",
              "         '>=': 5,\n",
              "         ':': 4,\n",
              "         '/': 391,\n",
              "         '>': 12,\n",
              "         '||': 12,\n",
              "         '&&': 22,\n",
              "         '~': 13,\n",
              "         'NA_real_': 6,\n",
              "         ';': 3,\n",
              "         '&': 24,\n",
              "         'paren_list': 116,\n",
              "         'inf': 84,\n",
              "         'nan': 1,\n",
              "         'NA_character_': 1,\n",
              "         '|': 2,\n",
              "         'namespace_get_internal': 7,\n",
              "         ':::': 7,\n",
              "         'pipe': 1,\n",
              "         '|>': 1})"
            ]
          },
          "metadata": {},
          "execution_count": 15
        }
      ]
    },
    {
      "cell_type": "code",
      "source": [
        "\n",
        "types = list()\n",
        "for index, row in df_success.iterrows():\n",
        "  code_og = row.input\n",
        "  code_adv = row.adv\n",
        "  idx = pos(code_og, code_adv)\n",
        "  code_og = code_og.replace('  ', ' ')\n",
        "  types+=get_adv(parser, code_og, idx)\n",
        "import collections\n",
        "c = collections.Counter(types)\n"
      ],
      "metadata": {
        "id": "JuyWAOL9Fddj"
      },
      "execution_count": null,
      "outputs": []
    },
    {
      "cell_type": "code",
      "source": [
        "# c = sorted(c.items(), key=lambda item: (-item[1], item[0]))\n",
        "c"
      ],
      "metadata": {
        "colab": {
          "base_uri": "https://localhost:8080/"
        },
        "id": "kV3zNQpwS7ce",
        "outputId": "02658210-d733-41bd-dd16-734ece2e6402"
      },
      "execution_count": null,
      "outputs": [
        {
          "output_type": "execute_result",
          "data": {
            "text/plain": [
              "Counter({'default_parameter': 222,\n",
              "         'identifier': 1793,\n",
              "         'call': 439,\n",
              "         '(': 478,\n",
              "         ')': 506,\n",
              "         ',': 754,\n",
              "         'arguments': 405,\n",
              "         '=': 533,\n",
              "         'default_argument': 308,\n",
              "         'unary': 30,\n",
              "         '!': 7,\n",
              "         'namespace_get': 77,\n",
              "         '::': 72,\n",
              "         'if': 69,\n",
              "         'string': 277,\n",
              "         '\"': 272,\n",
              "         'true': 14,\n",
              "         'brace_list': 86,\n",
              "         '{': 91,\n",
              "         'left_assignment': 85,\n",
              "         '<-': 86,\n",
              "         'binary': 97,\n",
              "         'slot': 26,\n",
              "         '@': 26,\n",
              "         '+': 8,\n",
              "         'float': 95,\n",
              "         '}': 110,\n",
              "         'else': 17,\n",
              "         'false': 28,\n",
              "         'program': 48,\n",
              "         'function_definition': 46,\n",
              "         'function': 50,\n",
              "         'dots': 44,\n",
              "         'integer': 8,\n",
              "         '%': 40,\n",
              "         'dollar': 68,\n",
              "         'for': 2,\n",
              "         'in': 1,\n",
              "         '==': 16,\n",
              "         'subset2': 16,\n",
              "         '[[': 16,\n",
              "         ']]': 17,\n",
              "         'subset': 12,\n",
              "         '[': 14,\n",
              "         '$': 76,\n",
              "         ']': 12,\n",
              "         'formal_parameters': 36,\n",
              "         'special': 27,\n",
              "         '*': 9,\n",
              "         \"'\": 16,\n",
              "         '-': 24,\n",
              "         'ERROR': 4,\n",
              "         '/': 4,\n",
              "         '!=': 6,\n",
              "         'equals_assignment': 2,\n",
              "         '>': 1,\n",
              "         '&&': 6,\n",
              "         '<': 2,\n",
              "         'null': 106,\n",
              "         '&': 14,\n",
              "         'paren_list': 4,\n",
              "         ':::': 1,\n",
              "         'na': 3,\n",
              "         'NA': 2,\n",
              "         'NA_real_': 1,\n",
              "         'switch': 6,\n",
              "         ';': 1})"
            ]
          },
          "metadata": {},
          "execution_count": 17
        }
      ]
    },
    {
      "cell_type": "code",
      "source": [
        "def filter_tuples_by_threshold(tuple_list, threshold):\n",
        "    filtered_tuples = [(key, value) for key, value in tuple_list if value >= threshold]\n",
        "    return filtered_tuples"
      ],
      "metadata": {
        "id": "zNHksi1MGNQS"
      },
      "execution_count": null,
      "outputs": []
    },
    {
      "cell_type": "markdown",
      "source": [
        "## Normalised Importance"
      ],
      "metadata": {
        "id": "sZYCEn0SM1GJ"
      }
    },
    {
      "cell_type": "code",
      "source": [
        "relative_imp = dict()\n",
        "for key, value in all_tokens.items():\n",
        "  print(key, c[key], all_tokens[key])\n",
        "  relative_imp[key] = c[key]/all_tokens[key]\n"
      ],
      "metadata": {
        "colab": {
          "base_uri": "https://localhost:8080/"
        },
        "id": "_PEfEk19A5oa",
        "outputId": "f670449b-8c76-4394-ecae-8e1534d28215"
      },
      "execution_count": null,
      "outputs": [
        {
          "output_type": "stream",
          "name": "stdout",
          "text": [
            "program 48 448\n",
            "function_definition 46 527\n",
            "function 50 549\n",
            "formal_parameters 36 541\n",
            "( 478 4408\n",
            "identifier 1793 12007\n",
            ", 754 4690\n",
            "default_parameter 222 1116\n",
            "= 533 2657\n",
            "call 439 3445\n",
            ") 506 4399\n",
            "dots 44 352\n",
            "true 14 130\n",
            "null 106 415\n",
            "brace_list 86 814\n",
            "{ 91 839\n",
            "arguments 405 3433\n",
            "left_assignment 85 541\n",
            "<- 86 548\n",
            "default_argument 308 1505\n",
            "dollar 68 312\n",
            "$ 76 312\n",
            "if 69 559\n",
            "binary 97 1531\n",
            "== 16 108\n",
            "float 95 997\n",
            "} 110 814\n",
            "string 277 1403\n",
            "\" 272 2618\n",
            "ERROR 4 20\n",
            "false 28 200\n",
            "< 2 20\n",
            "` 0 4\n",
            "unary 30 142\n",
            "! 7 78\n",
            "namespace_get 77 323\n",
            ":: 72 323\n",
            "slot 26 35\n",
            "@ 26 35\n",
            "+ 8 71\n",
            "else 17 94\n",
            "!= 6 16\n",
            "escape_sequence 0 107\n",
            "<= 0 12\n",
            "equals_assignment 2 36\n",
            "subset2 16 84\n",
            "[[ 16 84\n",
            "]] 17 84\n",
            "' 16 188\n",
            "subset 12 103\n",
            "[ 14 103\n",
            "] 12 103\n",
            "integer 8 56\n",
            "special 27 88\n",
            "% 40 176\n",
            "for 2 13\n",
            "in 1 7\n",
            "na 3 84\n",
            "NA 2 77\n",
            "switch 6 14\n",
            "^ 0 185\n",
            "* 9 300\n",
            "- 24 313\n",
            ">= 0 5\n",
            ": 0 4\n",
            "/ 4 391\n",
            "> 1 12\n",
            "|| 0 12\n",
            "&& 6 22\n",
            "~ 0 13\n",
            "NA_real_ 1 6\n",
            "; 1 3\n",
            "& 14 24\n",
            "paren_list 4 116\n",
            "inf 0 84\n",
            "nan 0 1\n",
            "NA_character_ 0 1\n",
            "| 0 2\n",
            "namespace_get_internal 0 7\n",
            "::: 1 7\n",
            "pipe 0 1\n",
            "|> 0 1\n"
          ]
        }
      ]
    },
    {
      "cell_type": "code",
      "source": [
        "relative_imp"
      ],
      "metadata": {
        "colab": {
          "base_uri": "https://localhost:8080/"
        },
        "id": "HGGROuT_B69T",
        "outputId": "d9210144-587c-4177-ebb4-948b9a4dbccd"
      },
      "execution_count": null,
      "outputs": [
        {
          "output_type": "execute_result",
          "data": {
            "text/plain": [
              "{'program': 0.10714285714285714,\n",
              " 'function_definition': 0.0872865275142315,\n",
              " 'function': 0.09107468123861566,\n",
              " 'formal_parameters': 0.066543438077634,\n",
              " '(': 0.10843920145190562,\n",
              " 'identifier': 0.14932955775797452,\n",
              " ',': 0.1607675906183369,\n",
              " 'default_parameter': 0.1989247311827957,\n",
              " '=': 0.20060218291305984,\n",
              " 'call': 0.1274310595065312,\n",
              " ')': 0.11502614230506933,\n",
              " 'dots': 0.125,\n",
              " 'true': 0.1076923076923077,\n",
              " 'null': 0.25542168674698795,\n",
              " 'brace_list': 0.10565110565110565,\n",
              " '{': 0.10846245530393325,\n",
              " 'arguments': 0.11797261870084474,\n",
              " 'left_assignment': 0.15711645101663585,\n",
              " '<-': 0.15693430656934307,\n",
              " 'default_argument': 0.20465116279069767,\n",
              " 'dollar': 0.21794871794871795,\n",
              " '$': 0.24358974358974358,\n",
              " 'if': 0.12343470483005367,\n",
              " 'binary': 0.06335728282168518,\n",
              " '==': 0.14814814814814814,\n",
              " 'float': 0.09528585757271815,\n",
              " '}': 0.13513513513513514,\n",
              " 'string': 0.19743406985032075,\n",
              " '\"': 0.1038961038961039,\n",
              " 'ERROR': 0.2,\n",
              " 'false': 0.14,\n",
              " '<': 0.1,\n",
              " '`': 0.0,\n",
              " 'unary': 0.2112676056338028,\n",
              " '!': 0.08974358974358974,\n",
              " 'namespace_get': 0.23839009287925697,\n",
              " '::': 0.22291021671826625,\n",
              " 'slot': 0.7428571428571429,\n",
              " '@': 0.7428571428571429,\n",
              " '+': 0.11267605633802817,\n",
              " 'else': 0.18085106382978725,\n",
              " '!=': 0.375,\n",
              " 'escape_sequence': 0.0,\n",
              " '<=': 0.0,\n",
              " 'equals_assignment': 0.05555555555555555,\n",
              " 'subset2': 0.19047619047619047,\n",
              " '[[': 0.19047619047619047,\n",
              " ']]': 0.20238095238095238,\n",
              " \"'\": 0.0851063829787234,\n",
              " 'subset': 0.11650485436893204,\n",
              " '[': 0.13592233009708737,\n",
              " ']': 0.11650485436893204,\n",
              " 'integer': 0.14285714285714285,\n",
              " 'special': 0.3068181818181818,\n",
              " '%': 0.22727272727272727,\n",
              " 'for': 0.15384615384615385,\n",
              " 'in': 0.14285714285714285,\n",
              " 'na': 0.03571428571428571,\n",
              " 'NA': 0.025974025974025976,\n",
              " 'switch': 0.42857142857142855,\n",
              " '^': 0.0,\n",
              " '*': 0.03,\n",
              " '-': 0.07667731629392971,\n",
              " '>=': 0.0,\n",
              " ':': 0.0,\n",
              " '/': 0.010230179028132993,\n",
              " '>': 0.08333333333333333,\n",
              " '||': 0.0,\n",
              " '&&': 0.2727272727272727,\n",
              " '~': 0.0,\n",
              " 'NA_real_': 0.16666666666666666,\n",
              " ';': 0.3333333333333333,\n",
              " '&': 0.5833333333333334,\n",
              " 'paren_list': 0.034482758620689655,\n",
              " 'inf': 0.0,\n",
              " 'nan': 0.0,\n",
              " 'NA_character_': 0.0,\n",
              " '|': 0.0,\n",
              " 'namespace_get_internal': 0.0,\n",
              " ':::': 0.14285714285714285,\n",
              " 'pipe': 0.0,\n",
              " '|>': 0.0}"
            ]
          },
          "metadata": {},
          "execution_count": 19
        }
      ]
    },
    {
      "cell_type": "code",
      "source": [
        "relative_imp_cp = relative_imp"
      ],
      "metadata": {
        "id": "Q7XKwjwUL8Aa"
      },
      "execution_count": null,
      "outputs": []
    },
    {
      "cell_type": "code",
      "source": [
        "relative_imp = sorted(relative_imp.items(), key=lambda item: (-item[1], item[0]))\n",
        "# relative_imp"
      ],
      "metadata": {
        "id": "ZCEd7bLlCATR"
      },
      "execution_count": null,
      "outputs": []
    },
    {
      "cell_type": "code",
      "source": [
        "relative_imp_cp"
      ],
      "metadata": {
        "colab": {
          "base_uri": "https://localhost:8080/"
        },
        "id": "hlvkXyTZGTsa",
        "outputId": "53b15f9a-bc97-4c1b-ce71-62edf4eab0c0"
      },
      "execution_count": null,
      "outputs": [
        {
          "output_type": "execute_result",
          "data": {
            "text/plain": [
              "{'program': 0.10714285714285714,\n",
              " 'function_definition': 0.0872865275142315,\n",
              " 'function': 0.09107468123861566,\n",
              " 'formal_parameters': 0.066543438077634,\n",
              " '(': 0.10843920145190562,\n",
              " 'identifier': 0.14932955775797452,\n",
              " ',': 0.1607675906183369,\n",
              " 'default_parameter': 0.1989247311827957,\n",
              " '=': 0.20060218291305984,\n",
              " 'call': 0.1274310595065312,\n",
              " ')': 0.11502614230506933,\n",
              " 'dots': 0.125,\n",
              " 'true': 0.1076923076923077,\n",
              " 'null': 0.25542168674698795,\n",
              " 'brace_list': 0.10565110565110565,\n",
              " '{': 0.10846245530393325,\n",
              " 'arguments': 0.11797261870084474,\n",
              " 'left_assignment': 0.15711645101663585,\n",
              " '<-': 0.15693430656934307,\n",
              " 'default_argument': 0.20465116279069767,\n",
              " 'dollar': 0.21794871794871795,\n",
              " '$': 0.24358974358974358,\n",
              " 'if': 0.12343470483005367,\n",
              " 'binary': 0.06335728282168518,\n",
              " '==': 0.14814814814814814,\n",
              " 'float': 0.09528585757271815,\n",
              " '}': 0.13513513513513514,\n",
              " 'string': 0.19743406985032075,\n",
              " '\"': 0.1038961038961039,\n",
              " 'ERROR': 0.2,\n",
              " 'false': 0.14,\n",
              " '<': 0.1,\n",
              " '`': 0.0,\n",
              " 'unary': 0.2112676056338028,\n",
              " '!': 0.08974358974358974,\n",
              " 'namespace_get': 0.23839009287925697,\n",
              " '::': 0.22291021671826625,\n",
              " 'slot': 0.7428571428571429,\n",
              " '@': 0.7428571428571429,\n",
              " '+': 0.11267605633802817,\n",
              " 'else': 0.18085106382978725,\n",
              " '!=': 0.375,\n",
              " 'escape_sequence': 0.0,\n",
              " '<=': 0.0,\n",
              " 'equals_assignment': 0.05555555555555555,\n",
              " 'subset2': 0.19047619047619047,\n",
              " '[[': 0.19047619047619047,\n",
              " ']]': 0.20238095238095238,\n",
              " \"'\": 0.0851063829787234,\n",
              " 'subset': 0.11650485436893204,\n",
              " '[': 0.13592233009708737,\n",
              " ']': 0.11650485436893204,\n",
              " 'integer': 0.14285714285714285,\n",
              " 'special': 0.3068181818181818,\n",
              " '%': 0.22727272727272727,\n",
              " 'for': 0.15384615384615385,\n",
              " 'in': 0.14285714285714285,\n",
              " 'na': 0.03571428571428571,\n",
              " 'NA': 0.025974025974025976,\n",
              " 'switch': 0.42857142857142855,\n",
              " '^': 0.0,\n",
              " '*': 0.03,\n",
              " '-': 0.07667731629392971,\n",
              " '>=': 0.0,\n",
              " ':': 0.0,\n",
              " '/': 0.010230179028132993,\n",
              " '>': 0.08333333333333333,\n",
              " '||': 0.0,\n",
              " '&&': 0.2727272727272727,\n",
              " '~': 0.0,\n",
              " 'NA_real_': 0.16666666666666666,\n",
              " ';': 0.3333333333333333,\n",
              " '&': 0.5833333333333334,\n",
              " 'paren_list': 0.034482758620689655,\n",
              " 'inf': 0.0,\n",
              " 'nan': 0.0,\n",
              " 'NA_character_': 0.0,\n",
              " '|': 0.0,\n",
              " 'namespace_get_internal': 0.0,\n",
              " ':::': 0.14285714285714285,\n",
              " 'pipe': 0.0,\n",
              " '|>': 0.0}"
            ]
          },
          "metadata": {},
          "execution_count": 35
        }
      ]
    },
    {
      "cell_type": "code",
      "source": [
        "import matplotlib.pyplot as plt\n",
        "\n",
        "threshold_value = 0.1666666\n",
        "relative_imp = filter_tuples_by_threshold(relative_imp, threshold_value)\n",
        "# separate the first item of each tuple from th elist of tuples\n",
        "labels = [i[0] for i in relative_imp]\n",
        "y = [i[1] for i in relative_imp]\n",
        "plt.figure(figsize=(15, 8))\n",
        "plt.scatter(labels, y)\n",
        "plt.xticks(rotation = 90)\n",
        "plt.xlabel(\"Token Type\")\n",
        "plt.ylabel(\"Success Rate\")\n",
        "plt.title(\"Normalised\")\n",
        "plt.show()\n"
      ],
      "metadata": {
        "colab": {
          "base_uri": "https://localhost:8080/",
          "height": 834
        },
        "id": "BH8yO4UResLr",
        "outputId": "bb542c08-d7f8-45cd-e91c-6e03616305f4"
      },
      "execution_count": null,
      "outputs": [
        {
          "output_type": "display_data",
          "data": {
            "text/plain": [
              "<Figure size 1500x800 with 1 Axes>"
            ],
            "image/png": "[encoded data removed]"
          },
          "metadata": {}
        }
      ]
    },
    {
      "cell_type": "markdown",
      "source": [
        "## Importance"
      ],
      "metadata": {
        "id": "mXBn4-P7MEYd"
      }
    },
    {
      "cell_type": "code",
      "source": [
        "num_attacks = 0\n",
        "for key, value in c.items():\n",
        "  num_attacks+=value"
      ],
      "metadata": {
        "id": "tHszyRF3MCv-"
      },
      "execution_count": null,
      "outputs": []
    },
    {
      "cell_type": "code",
      "source": [
        "num_attacks"
      ],
      "metadata": {
        "colab": {
          "base_uri": "https://localhost:8080/"
        },
        "id": "qzOTjie0MCtK",
        "outputId": "c278035b-394e-4712-d48c-0cf50fbe2ea9"
      },
      "execution_count": null,
      "outputs": [
        {
          "output_type": "execute_result",
          "data": {
            "text/plain": [
              "7772"
            ]
          },
          "metadata": {},
          "execution_count": 24
        }
      ]
    },
    {
      "cell_type": "code",
      "source": [
        "freq_attack = dict()\n",
        "for key, value in all_tokens.items():\n",
        "  freq_attack[key]=c[key]/num_attacks\n",
        "\n"
      ],
      "metadata": {
        "id": "JSD0VGRtMpah"
      },
      "execution_count": null,
      "outputs": []
    },
    {
      "cell_type": "code",
      "source": [
        "importance = dict()\n",
        "for key, value in freq_attack.items():\n",
        "  importance[key] = relative_imp_cp[key]*freq_attack[key]"
      ],
      "metadata": {
        "id": "v5xN4l58MpZC"
      },
      "execution_count": null,
      "outputs": []
    },
    {
      "cell_type": "code",
      "source": [
        "importance = sorted(importance.items(), key=lambda item: (-item[1], item[0]))"
      ],
      "metadata": {
        "id": "mceqgtXyMpUb"
      },
      "execution_count": null,
      "outputs": []
    },
    {
      "cell_type": "code",
      "source": [
        "\n",
        "\n"
      ],
      "metadata": {
        "id": "Sg3qkpdxE3jS"
      },
      "execution_count": null,
      "outputs": []
    },
    {
      "cell_type": "code",
      "source": [
        "# separate the first item of each tuple from th elist of tuples\n",
        "threshold_value = 0.00018\n",
        "importance = filter_tuples_by_threshold(importance, threshold_value)\n",
        "labels = [i[0] for i in importance]\n",
        "y = [i[1] for i in importance]\n",
        "plt.figure(figsize=(15, 6))\n",
        "plt.scatter(labels, y)\n",
        "plt.xlabel(\"Token Type\")\n",
        "plt.ylabel(\"Success Rate\")\n",
        "plt.title(\"Importance\")\n",
        "plt.xticks(rotation = 90)\n",
        "plt.show()"
      ],
      "metadata": {
        "colab": {
          "base_uri": "https://localhost:8080/",
          "height": 683
        },
        "id": "cy_FId_nOV3V",
        "outputId": "f75de39d-21da-462c-cf7b-6a48310b8e7e"
      },
      "execution_count": null,
      "outputs": [
        {
          "output_type": "display_data",
          "data": {
            "text/plain": [
              "<Figure size 1500x600 with 1 Axes>"
            ],
            "image/png": "[encoded data removed]"
          },
          "metadata": {}
        }
      ]
    },
    {
      "cell_type": "markdown",
      "source": [
        "##  Un-normalised"
      ],
      "metadata": {
        "id": "x7FEmzgYLvzk"
      }
    },
    {
      "cell_type": "code",
      "source": [
        "\n",
        "c = sorted(c.items(), key=lambda item: (-item[1], item[0]))"
      ],
      "metadata": {
        "id": "UXeuYLvRCcfP"
      },
      "execution_count": null,
      "outputs": []
    },
    {
      "cell_type": "code",
      "source": [
        "# separate the first item of each tuple from th elist of tuples\n",
        "labels = [i[0] for i in c]\n",
        "y = [i[1] for i in c]\n",
        "plt.figure(figsize=(15, 6))\n",
        "plt.scatter(labels, y)\n",
        "plt.xticks(rotation = 90)\n",
        "plt.show()\n"
      ],
      "metadata": {
        "id": "kb9Rm65h2co7",
        "outputId": "bee07f12-709f-4385-c0c4-de8977a92477",
        "colab": {
          "base_uri": "https://localhost:8080/",
          "height": 642
        }
      },
      "execution_count": null,
      "outputs": [
        {
          "output_type": "display_data",
          "data": {
            "text/plain": [
              "<Figure size 1500x600 with 1 Axes>"
            ],
            "image/png": "[encoded data removed]"
          },
          "metadata": {}
        }
      ]
    },
    {
      "cell_type": "markdown",
      "source": [
        "## ignore"
      ],
      "metadata": {
        "id": "fAln8F0Ne0JP"
      }
    },
    {
      "cell_type": "code",
      "source": [
        "code_og = \"function ( cohortData , ... ) { predObj <- unique ( cohortData [ , . ( pixelGroup , age , speciesCode ) ] )  predObj [ , ` ` ( mortPred = 100 , growthPred = 100 ) ]  return ( predObj )  }\""
      ],
      "metadata": {
        "id": "KPXbbkUcQjOR"
      },
      "execution_count": null,
      "outputs": []
    },
    {
      "cell_type": "code",
      "source": [
        "# code_set = [(code_og,r)]"
      ],
      "metadata": {
        "id": "cr35pANekCY7"
      },
      "execution_count": null,
      "outputs": []
    },
    {
      "cell_type": "code",
      "source": [
        "get_type(parser, code_og, r)"
      ],
      "metadata": {
        "id": "rN-7URQeQqtL"
      },
      "execution_count": null,
      "outputs": []
    },
    {
      "cell_type": "code",
      "source": [
        "code_og1 = \"\"\"\n",
        "function ( cohortData , ... ) {\n",
        "  predObj <- unique ( cohortData [ , . ( pixelGroup , age , speciesCode ) ] )\n",
        "  predObj [ , ` ` ( mortPred = 100 , growthPred = 100 ) ]\n",
        "  return ( predObj )  }\n",
        "\"\"\""
      ],
      "metadata": {
        "id": "VsVE5_6jRDhP"
      },
      "execution_count": null,
      "outputs": []
    },
    {
      "cell_type": "code",
      "source": [
        "get_type(parser, code_og1, r)\n"
      ],
      "metadata": {
        "id": "poKdjtP-RCQo"
      },
      "execution_count": null,
      "outputs": []
    },
    {
      "cell_type": "code",
      "source": [
        "# import pprint\n",
        "# for code, lang in code_set:\n",
        "#     print('*'*100)\n",
        "#     print(\"Original Code\")\n",
        "#     print(code)\n",
        "#     print(\"_\"*100)\n",
        "#     print(\"Parsed Identifiers\")\n",
        "#     pprint.pprint(get_adv(parser, code, lang, idx))\n",
        "#     print('*'*100)"
      ],
      "metadata": {
        "id": "h20IydljfNMg"
      },
      "execution_count": null,
      "outputs": []
    },
    {
      "cell_type": "code",
      "source": [],
      "metadata": {
        "id": "17MpiHPxbqF6"
      },
      "execution_count": null,
      "outputs": []
    }
  ]
}